{
 "cells": [
  {
   "cell_type": "code",
   "execution_count": 2,
   "id": "118d24a0",
   "metadata": {},
   "outputs": [
    {
     "name": "stdout",
     "output_type": "stream",
     "text": [
      "Python Programming\n"
     ]
    }
   ],
   "source": [
    "print(\"Python Programming\")     #shift+enter  to run"
   ]
  },
  {
   "cell_type": "code",
   "execution_count": 3,
   "id": "e7e5b1d8",
   "metadata": {},
   "outputs": [],
   "source": [
    "a=8"
   ]
  },
  {
   "cell_type": "code",
   "execution_count": 4,
   "id": "15be2d57",
   "metadata": {},
   "outputs": [
    {
     "data": {
      "text/plain": [
       "int"
      ]
     },
     "execution_count": 4,
     "metadata": {},
     "output_type": "execute_result"
    }
   ],
   "source": [
    "type(a)"
   ]
  },
  {
   "cell_type": "code",
   "execution_count": 5,
   "id": "30d5c492",
   "metadata": {},
   "outputs": [],
   "source": [
    "a=9.8"
   ]
  },
  {
   "cell_type": "code",
   "execution_count": 6,
   "id": "e927eaab",
   "metadata": {},
   "outputs": [
    {
     "data": {
      "text/plain": [
       "float"
      ]
     },
     "execution_count": 6,
     "metadata": {},
     "output_type": "execute_result"
    }
   ],
   "source": [
    "type(a)"
   ]
  },
  {
   "cell_type": "code",
   "execution_count": 7,
   "id": "d024ad32",
   "metadata": {},
   "outputs": [],
   "source": [
    "a=\"abc\""
   ]
  },
  {
   "cell_type": "code",
   "execution_count": 8,
   "id": "c8ef7642",
   "metadata": {},
   "outputs": [
    {
     "data": {
      "text/plain": [
       "str"
      ]
     },
     "execution_count": 8,
     "metadata": {},
     "output_type": "execute_result"
    }
   ],
   "source": [
    "type(a)"
   ]
  },
  {
   "cell_type": "markdown",
   "id": "1f918dc0",
   "metadata": {},
   "source": [
    "# Data types in Python"
   ]
  },
  {
   "cell_type": "code",
   "execution_count": null,
   "id": "8877f8fc",
   "metadata": {},
   "outputs": [],
   "source": []
  },
  {
   "cell_type": "code",
   "execution_count": 9,
   "id": "e2c7d80f",
   "metadata": {},
   "outputs": [
    {
     "data": {
      "text/plain": [
       "int"
      ]
     },
     "execution_count": 9,
     "metadata": {},
     "output_type": "execute_result"
    }
   ],
   "source": [
    "a=-89\n",
    "type(a)"
   ]
  },
  {
   "cell_type": "code",
   "execution_count": 10,
   "id": "663d6943",
   "metadata": {},
   "outputs": [
    {
     "data": {
      "text/plain": [
       "float"
      ]
     },
     "execution_count": 10,
     "metadata": {},
     "output_type": "execute_result"
    }
   ],
   "source": [
    "a=8.9\n",
    "type(a)"
   ]
  },
  {
   "cell_type": "code",
   "execution_count": 12,
   "id": "0d6d8ee9",
   "metadata": {},
   "outputs": [
    {
     "data": {
      "text/plain": [
       "complex"
      ]
     },
     "execution_count": 12,
     "metadata": {},
     "output_type": "execute_result"
    }
   ],
   "source": [
    "a=3+7j\n",
    "type(a)"
   ]
  },
  {
   "cell_type": "code",
   "execution_count": 13,
   "id": "fdc26d3e",
   "metadata": {},
   "outputs": [],
   "source": [
    "a=complex(2,8)"
   ]
  },
  {
   "cell_type": "code",
   "execution_count": 14,
   "id": "e37d736f",
   "metadata": {},
   "outputs": [
    {
     "data": {
      "text/plain": [
       "(2+8j)"
      ]
     },
     "execution_count": 14,
     "metadata": {},
     "output_type": "execute_result"
    }
   ],
   "source": [
    "a"
   ]
  },
  {
   "cell_type": "code",
   "execution_count": 15,
   "id": "a2717683",
   "metadata": {},
   "outputs": [
    {
     "data": {
      "text/plain": [
       "8.0"
      ]
     },
     "execution_count": 15,
     "metadata": {},
     "output_type": "execute_result"
    }
   ],
   "source": [
    "a.imag"
   ]
  },
  {
   "cell_type": "code",
   "execution_count": 16,
   "id": "3b7bd787",
   "metadata": {},
   "outputs": [
    {
     "data": {
      "text/plain": [
       "2.0"
      ]
     },
     "execution_count": 16,
     "metadata": {},
     "output_type": "execute_result"
    }
   ],
   "source": [
    "a.real"
   ]
  },
  {
   "cell_type": "code",
   "execution_count": 25,
   "id": "15c1dc7b",
   "metadata": {},
   "outputs": [],
   "source": [
    "a,b,c=9,7,9"
   ]
  },
  {
   "cell_type": "code",
   "execution_count": 26,
   "id": "d819dc0c",
   "metadata": {},
   "outputs": [
    {
     "data": {
      "text/plain": [
       "1639644201456"
      ]
     },
     "execution_count": 26,
     "metadata": {},
     "output_type": "execute_result"
    }
   ],
   "source": [
    "id(c)"
   ]
  },
  {
   "cell_type": "code",
   "execution_count": 27,
   "id": "bd8da6ea",
   "metadata": {},
   "outputs": [
    {
     "data": {
      "text/plain": [
       "1639644201456"
      ]
     },
     "execution_count": 27,
     "metadata": {},
     "output_type": "execute_result"
    }
   ],
   "source": [
    "id(a)"
   ]
  },
  {
   "cell_type": "code",
   "execution_count": 28,
   "id": "015969f7",
   "metadata": {},
   "outputs": [
    {
     "data": {
      "text/plain": [
       "1639644201392"
      ]
     },
     "execution_count": 28,
     "metadata": {},
     "output_type": "execute_result"
    }
   ],
   "source": [
    "id(b)"
   ]
  },
  {
   "cell_type": "markdown",
   "id": "95dbb9ae",
   "metadata": {},
   "source": [
    "# String datatype"
   ]
  },
  {
   "cell_type": "code",
   "execution_count": 17,
   "id": "34d5fc8e",
   "metadata": {},
   "outputs": [],
   "source": [
    "a=\"qwerty\""
   ]
  },
  {
   "cell_type": "code",
   "execution_count": 18,
   "id": "8b031fce",
   "metadata": {},
   "outputs": [
    {
     "data": {
      "text/plain": [
       "str"
      ]
     },
     "execution_count": 18,
     "metadata": {},
     "output_type": "execute_result"
    }
   ],
   "source": [
    "type(a)"
   ]
  },
  {
   "cell_type": "code",
   "execution_count": 19,
   "id": "a77be77b",
   "metadata": {},
   "outputs": [],
   "source": [
    "a=\"q\""
   ]
  },
  {
   "cell_type": "code",
   "execution_count": 20,
   "id": "4bfce0f1",
   "metadata": {},
   "outputs": [
    {
     "data": {
      "text/plain": [
       "str"
      ]
     },
     "execution_count": 20,
     "metadata": {},
     "output_type": "execute_result"
    }
   ],
   "source": [
    "type(a)"
   ]
  },
  {
   "cell_type": "code",
   "execution_count": 29,
   "id": "6dd8b391",
   "metadata": {},
   "outputs": [],
   "source": [
    "a=\"qwerty\""
   ]
  },
  {
   "cell_type": "code",
   "execution_count": 30,
   "id": "0439e58d",
   "metadata": {},
   "outputs": [
    {
     "data": {
      "text/plain": [
       "'qwerty'"
      ]
     },
     "execution_count": 30,
     "metadata": {},
     "output_type": "execute_result"
    }
   ],
   "source": [
    "a"
   ]
  },
  {
   "cell_type": "code",
   "execution_count": 33,
   "id": "5e684655",
   "metadata": {},
   "outputs": [
    {
     "data": {
      "text/plain": [
       "'q'"
      ]
     },
     "execution_count": 33,
     "metadata": {},
     "output_type": "execute_result"
    }
   ],
   "source": [
    "a[0]"
   ]
  },
  {
   "cell_type": "code",
   "execution_count": 35,
   "id": "07e370c9",
   "metadata": {},
   "outputs": [
    {
     "data": {
      "text/plain": [
       "'q'"
      ]
     },
     "execution_count": 35,
     "metadata": {},
     "output_type": "execute_result"
    }
   ],
   "source": [
    "a[-6]"
   ]
  },
  {
   "cell_type": "code",
   "execution_count": 36,
   "id": "6576827b",
   "metadata": {},
   "outputs": [],
   "source": [
    "a=\"pythON programmIng\""
   ]
  },
  {
   "cell_type": "code",
   "execution_count": 38,
   "id": "fc6d98c4",
   "metadata": {},
   "outputs": [
    {
     "data": {
      "text/plain": [
       "'Python programming'"
      ]
     },
     "execution_count": 38,
     "metadata": {},
     "output_type": "execute_result"
    }
   ],
   "source": [
    "a.capitalize()    #shift+tab"
   ]
  },
  {
   "cell_type": "code",
   "execution_count": 40,
   "id": "12ce304e",
   "metadata": {},
   "outputs": [
    {
     "data": {
      "text/plain": [
       "'python programming'"
      ]
     },
     "execution_count": 40,
     "metadata": {},
     "output_type": "execute_result"
    }
   ],
   "source": [
    "a.lower()"
   ]
  },
  {
   "cell_type": "code",
   "execution_count": 41,
   "id": "77528ca4",
   "metadata": {},
   "outputs": [
    {
     "data": {
      "text/plain": [
       "'PYTHON PROGRAMMING'"
      ]
     },
     "execution_count": 41,
     "metadata": {},
     "output_type": "execute_result"
    }
   ],
   "source": [
    "a.upper()"
   ]
  },
  {
   "cell_type": "code",
   "execution_count": 42,
   "id": "a909390d",
   "metadata": {},
   "outputs": [
    {
     "data": {
      "text/plain": [
       "'Python Programming'"
      ]
     },
     "execution_count": 42,
     "metadata": {},
     "output_type": "execute_result"
    }
   ],
   "source": [
    "a.title()"
   ]
  },
  {
   "cell_type": "markdown",
   "id": "b047975b",
   "metadata": {},
   "source": [
    "# Boolean data type"
   ]
  },
  {
   "cell_type": "code",
   "execution_count": 43,
   "id": "e6a10150",
   "metadata": {},
   "outputs": [],
   "source": [
    "a,b=True,False"
   ]
  },
  {
   "cell_type": "markdown",
   "id": "e67a3136",
   "metadata": {},
   "source": [
    "# And"
   ]
  },
  {
   "cell_type": "code",
   "execution_count": 44,
   "id": "cb18f4dc",
   "metadata": {},
   "outputs": [
    {
     "data": {
      "text/plain": [
       "False"
      ]
     },
     "execution_count": 44,
     "metadata": {},
     "output_type": "execute_result"
    }
   ],
   "source": [
    "False and False"
   ]
  },
  {
   "cell_type": "code",
   "execution_count": 45,
   "id": "238d58d5",
   "metadata": {},
   "outputs": [
    {
     "data": {
      "text/plain": [
       "False"
      ]
     },
     "execution_count": 45,
     "metadata": {},
     "output_type": "execute_result"
    }
   ],
   "source": [
    "False and True"
   ]
  },
  {
   "cell_type": "code",
   "execution_count": 46,
   "id": "8cdc1301",
   "metadata": {},
   "outputs": [
    {
     "data": {
      "text/plain": [
       "False"
      ]
     },
     "execution_count": 46,
     "metadata": {},
     "output_type": "execute_result"
    }
   ],
   "source": [
    "True and False"
   ]
  },
  {
   "cell_type": "code",
   "execution_count": 52,
   "id": "4722b78a",
   "metadata": {},
   "outputs": [
    {
     "data": {
      "text/plain": [
       "True"
      ]
     },
     "execution_count": 52,
     "metadata": {},
     "output_type": "execute_result"
    }
   ],
   "source": [
    "True & True"
   ]
  },
  {
   "cell_type": "markdown",
   "id": "60c5459c",
   "metadata": {},
   "source": [
    "# Or"
   ]
  },
  {
   "cell_type": "code",
   "execution_count": 48,
   "id": "182ef047",
   "metadata": {},
   "outputs": [
    {
     "data": {
      "text/plain": [
       "False"
      ]
     },
     "execution_count": 48,
     "metadata": {},
     "output_type": "execute_result"
    }
   ],
   "source": [
    "False or False"
   ]
  },
  {
   "cell_type": "code",
   "execution_count": 49,
   "id": "12babe2b",
   "metadata": {},
   "outputs": [
    {
     "data": {
      "text/plain": [
       "True"
      ]
     },
     "execution_count": 49,
     "metadata": {},
     "output_type": "execute_result"
    }
   ],
   "source": [
    "False or True"
   ]
  },
  {
   "cell_type": "code",
   "execution_count": 50,
   "id": "a8b6d356",
   "metadata": {},
   "outputs": [
    {
     "data": {
      "text/plain": [
       "True"
      ]
     },
     "execution_count": 50,
     "metadata": {},
     "output_type": "execute_result"
    }
   ],
   "source": [
    "True or False"
   ]
  },
  {
   "cell_type": "code",
   "execution_count": 53,
   "id": "08a59626",
   "metadata": {},
   "outputs": [
    {
     "data": {
      "text/plain": [
       "True"
      ]
     },
     "execution_count": 53,
     "metadata": {},
     "output_type": "execute_result"
    }
   ],
   "source": [
    "True | True"
   ]
  },
  {
   "cell_type": "markdown",
   "id": "492bcb09",
   "metadata": {},
   "source": [
    "# Xor"
   ]
  },
  {
   "cell_type": "code",
   "execution_count": 54,
   "id": "5a8448bf",
   "metadata": {},
   "outputs": [
    {
     "data": {
      "text/plain": [
       "False"
      ]
     },
     "execution_count": 54,
     "metadata": {},
     "output_type": "execute_result"
    }
   ],
   "source": [
    "False ^ False"
   ]
  },
  {
   "cell_type": "code",
   "execution_count": 55,
   "id": "ae911aec",
   "metadata": {},
   "outputs": [
    {
     "data": {
      "text/plain": [
       "True"
      ]
     },
     "execution_count": 55,
     "metadata": {},
     "output_type": "execute_result"
    }
   ],
   "source": [
    "False ^ True"
   ]
  },
  {
   "cell_type": "code",
   "execution_count": 56,
   "id": "ec5d5207",
   "metadata": {},
   "outputs": [
    {
     "data": {
      "text/plain": [
       "True"
      ]
     },
     "execution_count": 56,
     "metadata": {},
     "output_type": "execute_result"
    }
   ],
   "source": [
    "True ^ False"
   ]
  },
  {
   "cell_type": "code",
   "execution_count": 57,
   "id": "da918088",
   "metadata": {},
   "outputs": [
    {
     "data": {
      "text/plain": [
       "False"
      ]
     },
     "execution_count": 57,
     "metadata": {},
     "output_type": "execute_result"
    }
   ],
   "source": [
    "True ^ True"
   ]
  },
  {
   "cell_type": "code",
   "execution_count": 60,
   "id": "61b4b541",
   "metadata": {},
   "outputs": [
    {
     "data": {
      "text/plain": [
       "12"
      ]
     },
     "execution_count": 60,
     "metadata": {},
     "output_type": "execute_result"
    }
   ],
   "source": [
    "45 and 12"
   ]
  },
  {
   "cell_type": "code",
   "execution_count": 61,
   "id": "4a49717f",
   "metadata": {},
   "outputs": [
    {
     "data": {
      "text/plain": [
       "45"
      ]
     },
     "execution_count": 61,
     "metadata": {},
     "output_type": "execute_result"
    }
   ],
   "source": [
    "45 or 12"
   ]
  },
  {
   "cell_type": "code",
   "execution_count": 62,
   "id": "aaea7f01",
   "metadata": {},
   "outputs": [
    {
     "data": {
      "text/plain": [
       "33"
      ]
     },
     "execution_count": 62,
     "metadata": {},
     "output_type": "execute_result"
    }
   ],
   "source": [
    "45 ^ 12"
   ]
  },
  {
   "cell_type": "code",
   "execution_count": 58,
   "id": "942af0cc",
   "metadata": {},
   "outputs": [
    {
     "data": {
      "text/plain": [
       "'0b101101'"
      ]
     },
     "execution_count": 58,
     "metadata": {},
     "output_type": "execute_result"
    }
   ],
   "source": [
    "bin(45)"
   ]
  },
  {
   "cell_type": "code",
   "execution_count": 59,
   "id": "22b34e7e",
   "metadata": {},
   "outputs": [
    {
     "data": {
      "text/plain": [
       "'0b1100'"
      ]
     },
     "execution_count": 59,
     "metadata": {},
     "output_type": "execute_result"
    }
   ],
   "source": [
    "bin(12)"
   ]
  },
  {
   "cell_type": "code",
   "execution_count": 64,
   "id": "20f47dbf",
   "metadata": {},
   "outputs": [
    {
     "data": {
      "text/plain": [
       "33"
      ]
     },
     "execution_count": 64,
     "metadata": {},
     "output_type": "execute_result"
    }
   ],
   "source": [
    "int(0b100001)"
   ]
  },
  {
   "cell_type": "markdown",
   "id": "d309c753",
   "metadata": {},
   "source": [
    "# List data type"
   ]
  },
  {
   "cell_type": "markdown",
   "id": "a4766ce7",
   "metadata": {},
   "source": [
    "# collection of hetrogeneous type of data,mutable,indexed,ordered"
   ]
  },
  {
   "cell_type": "code",
   "execution_count": 65,
   "id": "a7e93a49",
   "metadata": {},
   "outputs": [],
   "source": [
    "a=[23,56,8.9,\"abc\",14]"
   ]
  },
  {
   "cell_type": "code",
   "execution_count": 66,
   "id": "29f71a5c",
   "metadata": {},
   "outputs": [
    {
     "data": {
      "text/plain": [
       "list"
      ]
     },
     "execution_count": 66,
     "metadata": {},
     "output_type": "execute_result"
    }
   ],
   "source": [
    "type(a)"
   ]
  },
  {
   "cell_type": "code",
   "execution_count": 67,
   "id": "69d5dcf4",
   "metadata": {},
   "outputs": [
    {
     "data": {
      "text/plain": [
       "8.9"
      ]
     },
     "execution_count": 67,
     "metadata": {},
     "output_type": "execute_result"
    }
   ],
   "source": [
    "a[2]"
   ]
  },
  {
   "cell_type": "code",
   "execution_count": 68,
   "id": "d314e7b8",
   "metadata": {},
   "outputs": [
    {
     "data": {
      "text/plain": [
       "14"
      ]
     },
     "execution_count": 68,
     "metadata": {},
     "output_type": "execute_result"
    }
   ],
   "source": [
    "a[-1]"
   ]
  },
  {
   "cell_type": "code",
   "execution_count": 70,
   "id": "9dd7da7a",
   "metadata": {},
   "outputs": [
    {
     "data": {
      "text/plain": [
       "'c'"
      ]
     },
     "execution_count": 70,
     "metadata": {},
     "output_type": "execute_result"
    }
   ],
   "source": [
    "a[-2][-1]"
   ]
  },
  {
   "cell_type": "code",
   "execution_count": 71,
   "id": "3ef2a8dd",
   "metadata": {},
   "outputs": [],
   "source": [
    "a.append(2)"
   ]
  },
  {
   "cell_type": "code",
   "execution_count": 72,
   "id": "fc4dc52f",
   "metadata": {},
   "outputs": [
    {
     "data": {
      "text/plain": [
       "[23, 56, 8.9, 'abc', 14, 2]"
      ]
     },
     "execution_count": 72,
     "metadata": {},
     "output_type": "execute_result"
    }
   ],
   "source": [
    "a"
   ]
  },
  {
   "cell_type": "code",
   "execution_count": 73,
   "id": "6d30d68e",
   "metadata": {},
   "outputs": [
    {
     "data": {
      "text/plain": [
       "6"
      ]
     },
     "execution_count": 73,
     "metadata": {},
     "output_type": "execute_result"
    }
   ],
   "source": [
    "len(a)"
   ]
  },
  {
   "cell_type": "code",
   "execution_count": 74,
   "id": "f2392125",
   "metadata": {},
   "outputs": [],
   "source": [
    "a.append([2,3,4])"
   ]
  },
  {
   "cell_type": "code",
   "execution_count": 75,
   "id": "2f45cc8f",
   "metadata": {},
   "outputs": [
    {
     "data": {
      "text/plain": [
       "[23, 56, 8.9, 'abc', 14, 2, [2, 3, 4]]"
      ]
     },
     "execution_count": 75,
     "metadata": {},
     "output_type": "execute_result"
    }
   ],
   "source": [
    "a"
   ]
  },
  {
   "cell_type": "code",
   "execution_count": 76,
   "id": "b191ce9a",
   "metadata": {},
   "outputs": [],
   "source": [
    "a.insert(3,88)"
   ]
  },
  {
   "cell_type": "code",
   "execution_count": 77,
   "id": "cb0df882",
   "metadata": {},
   "outputs": [
    {
     "data": {
      "text/plain": [
       "[23, 56, 8.9, 88, 'abc', 14, 2, [2, 3, 4]]"
      ]
     },
     "execution_count": 77,
     "metadata": {},
     "output_type": "execute_result"
    }
   ],
   "source": [
    "a"
   ]
  },
  {
   "cell_type": "code",
   "execution_count": 78,
   "id": "b1e1c5a3",
   "metadata": {},
   "outputs": [],
   "source": [
    "a.insert(1,[33,44])"
   ]
  },
  {
   "cell_type": "code",
   "execution_count": 79,
   "id": "97e857ec",
   "metadata": {},
   "outputs": [
    {
     "data": {
      "text/plain": [
       "[23, [33, 44], 56, 8.9, 88, 'abc', 14, 2, [2, 3, 4]]"
      ]
     },
     "execution_count": 79,
     "metadata": {},
     "output_type": "execute_result"
    }
   ],
   "source": [
    "a"
   ]
  },
  {
   "cell_type": "code",
   "execution_count": 80,
   "id": "7b1cfb86",
   "metadata": {},
   "outputs": [],
   "source": [
    "a.insert(0,\"qwerty\")"
   ]
  },
  {
   "cell_type": "code",
   "execution_count": 81,
   "id": "7c7e9fbd",
   "metadata": {},
   "outputs": [
    {
     "data": {
      "text/plain": [
       "['qwerty', 23, [33, 44], 56, 8.9, 88, 'abc', 14, 2, [2, 3, 4]]"
      ]
     },
     "execution_count": 81,
     "metadata": {},
     "output_type": "execute_result"
    }
   ],
   "source": [
    "a"
   ]
  },
  {
   "cell_type": "code",
   "execution_count": 82,
   "id": "681bc7eb",
   "metadata": {},
   "outputs": [],
   "source": [
    "a.extend([22,33])"
   ]
  },
  {
   "cell_type": "code",
   "execution_count": 83,
   "id": "e66ac1d5",
   "metadata": {},
   "outputs": [
    {
     "data": {
      "text/plain": [
       "['qwerty', 23, [33, 44], 56, 8.9, 88, 'abc', 14, 2, [2, 3, 4], 22, 33]"
      ]
     },
     "execution_count": 83,
     "metadata": {},
     "output_type": "execute_result"
    }
   ],
   "source": [
    "a"
   ]
  },
  {
   "cell_type": "code",
   "execution_count": 84,
   "id": "18c0ce87",
   "metadata": {},
   "outputs": [],
   "source": [
    "a.extend(\"abc\")"
   ]
  },
  {
   "cell_type": "code",
   "execution_count": 85,
   "id": "ce388aa4",
   "metadata": {
    "scrolled": true
   },
   "outputs": [
    {
     "data": {
      "text/plain": [
       "['qwerty',\n",
       " 23,\n",
       " [33, 44],\n",
       " 56,\n",
       " 8.9,\n",
       " 88,\n",
       " 'abc',\n",
       " 14,\n",
       " 2,\n",
       " [2, 3, 4],\n",
       " 22,\n",
       " 33,\n",
       " 'a',\n",
       " 'b',\n",
       " 'c']"
      ]
     },
     "execution_count": 85,
     "metadata": {},
     "output_type": "execute_result"
    }
   ],
   "source": [
    "a"
   ]
  },
  {
   "cell_type": "code",
   "execution_count": 86,
   "id": "1eb36b77",
   "metadata": {},
   "outputs": [],
   "source": [
    "a.clear()"
   ]
  },
  {
   "cell_type": "code",
   "execution_count": 87,
   "id": "e4d6076c",
   "metadata": {},
   "outputs": [
    {
     "data": {
      "text/plain": [
       "[]"
      ]
     },
     "execution_count": 87,
     "metadata": {},
     "output_type": "execute_result"
    }
   ],
   "source": [
    "a"
   ]
  },
  {
   "cell_type": "code",
   "execution_count": 88,
   "id": "6d59599d",
   "metadata": {},
   "outputs": [],
   "source": [
    "del a"
   ]
  },
  {
   "cell_type": "code",
   "execution_count": 89,
   "id": "d5530f21",
   "metadata": {},
   "outputs": [
    {
     "ename": "NameError",
     "evalue": "name 'a' is not defined",
     "output_type": "error",
     "traceback": [
      "\u001b[1;31m---------------------------------------------------------------------------\u001b[0m",
      "\u001b[1;31mNameError\u001b[0m                                 Traceback (most recent call last)",
      "\u001b[1;32m~\\AppData\\Local\\Temp/ipykernel_10520/2167009006.py\u001b[0m in \u001b[0;36m<module>\u001b[1;34m\u001b[0m\n\u001b[1;32m----> 1\u001b[1;33m \u001b[0ma\u001b[0m\u001b[1;33m\u001b[0m\u001b[1;33m\u001b[0m\u001b[0m\n\u001b[0m",
      "\u001b[1;31mNameError\u001b[0m: name 'a' is not defined"
     ]
    }
   ],
   "source": [
    "a"
   ]
  },
  {
   "cell_type": "code",
   "execution_count": 90,
   "id": "84281cea",
   "metadata": {},
   "outputs": [],
   "source": [
    "a=[2,3,4,1,2,3,7]"
   ]
  },
  {
   "cell_type": "code",
   "execution_count": 91,
   "id": "7e0507d2",
   "metadata": {},
   "outputs": [],
   "source": [
    "b=a.copy()"
   ]
  },
  {
   "cell_type": "code",
   "execution_count": 92,
   "id": "1a186ef6",
   "metadata": {},
   "outputs": [
    {
     "data": {
      "text/plain": [
       "[2, 3, 4, 1, 2, 3, 7]"
      ]
     },
     "execution_count": 92,
     "metadata": {},
     "output_type": "execute_result"
    }
   ],
   "source": [
    "b"
   ]
  },
  {
   "cell_type": "code",
   "execution_count": 95,
   "id": "a88d53d4",
   "metadata": {},
   "outputs": [
    {
     "data": {
      "text/plain": [
       "1"
      ]
     },
     "execution_count": 95,
     "metadata": {},
     "output_type": "execute_result"
    }
   ],
   "source": [
    "a.count(7)"
   ]
  },
  {
   "cell_type": "code",
   "execution_count": 96,
   "id": "459837d2",
   "metadata": {},
   "outputs": [
    {
     "data": {
      "text/plain": [
       "2"
      ]
     },
     "execution_count": 96,
     "metadata": {},
     "output_type": "execute_result"
    }
   ],
   "source": [
    "a.index(4)"
   ]
  },
  {
   "cell_type": "code",
   "execution_count": 97,
   "id": "53261066",
   "metadata": {},
   "outputs": [
    {
     "data": {
      "text/plain": [
       "0"
      ]
     },
     "execution_count": 97,
     "metadata": {},
     "output_type": "execute_result"
    }
   ],
   "source": [
    "a.index(2)"
   ]
  },
  {
   "cell_type": "code",
   "execution_count": 98,
   "id": "9c985cfb",
   "metadata": {},
   "outputs": [
    {
     "data": {
      "text/plain": [
       "6"
      ]
     },
     "execution_count": 98,
     "metadata": {},
     "output_type": "execute_result"
    }
   ],
   "source": [
    "a.index(7)"
   ]
  },
  {
   "cell_type": "code",
   "execution_count": 99,
   "id": "8c3e7728",
   "metadata": {},
   "outputs": [
    {
     "data": {
      "text/plain": [
       "7"
      ]
     },
     "execution_count": 99,
     "metadata": {},
     "output_type": "execute_result"
    }
   ],
   "source": [
    "a.pop()"
   ]
  },
  {
   "cell_type": "code",
   "execution_count": 100,
   "id": "9364916c",
   "metadata": {},
   "outputs": [
    {
     "data": {
      "text/plain": [
       "4"
      ]
     },
     "execution_count": 100,
     "metadata": {},
     "output_type": "execute_result"
    }
   ],
   "source": [
    "a.pop(2)"
   ]
  },
  {
   "cell_type": "code",
   "execution_count": 101,
   "id": "2fcf4af3",
   "metadata": {},
   "outputs": [],
   "source": [
    "a.remove(2)"
   ]
  },
  {
   "cell_type": "code",
   "execution_count": 102,
   "id": "c93dc267",
   "metadata": {},
   "outputs": [
    {
     "data": {
      "text/plain": [
       "[3, 1, 2, 3]"
      ]
     },
     "execution_count": 102,
     "metadata": {},
     "output_type": "execute_result"
    }
   ],
   "source": [
    "a"
   ]
  },
  {
   "cell_type": "code",
   "execution_count": 103,
   "id": "7c214102",
   "metadata": {},
   "outputs": [],
   "source": [
    "a.sort()"
   ]
  },
  {
   "cell_type": "code",
   "execution_count": 104,
   "id": "44793dc4",
   "metadata": {},
   "outputs": [
    {
     "data": {
      "text/plain": [
       "[1, 2, 3, 3]"
      ]
     },
     "execution_count": 104,
     "metadata": {},
     "output_type": "execute_result"
    }
   ],
   "source": [
    "a"
   ]
  },
  {
   "cell_type": "code",
   "execution_count": 105,
   "id": "238ecf7e",
   "metadata": {},
   "outputs": [],
   "source": [
    "a.reverse()"
   ]
  },
  {
   "cell_type": "code",
   "execution_count": 106,
   "id": "cedc3aca",
   "metadata": {},
   "outputs": [
    {
     "data": {
      "text/plain": [
       "[3, 3, 2, 1]"
      ]
     },
     "execution_count": 106,
     "metadata": {},
     "output_type": "execute_result"
    }
   ],
   "source": [
    "a"
   ]
  },
  {
   "cell_type": "code",
   "execution_count": 128,
   "id": "8893561f",
   "metadata": {},
   "outputs": [],
   "source": [
    "a=[2,4,1,77,6,9,14]"
   ]
  },
  {
   "cell_type": "code",
   "execution_count": 122,
   "id": "df8aeb7c",
   "metadata": {},
   "outputs": [
    {
     "data": {
      "text/plain": [
       "[4, 1]"
      ]
     },
     "execution_count": 122,
     "metadata": {},
     "output_type": "execute_result"
    }
   ],
   "source": [
    "a[1:3:1]"
   ]
  },
  {
   "cell_type": "code",
   "execution_count": 123,
   "id": "89a0a84e",
   "metadata": {},
   "outputs": [
    {
     "data": {
      "text/plain": [
       "[2, 77, 4]"
      ]
     },
     "execution_count": 123,
     "metadata": {},
     "output_type": "execute_result"
    }
   ],
   "source": [
    "a[0:7:3]"
   ]
  },
  {
   "cell_type": "code",
   "execution_count": 124,
   "id": "8f29d488",
   "metadata": {},
   "outputs": [
    {
     "data": {
      "text/plain": [
       "[9, 77, 4]"
      ]
     },
     "execution_count": 124,
     "metadata": {},
     "output_type": "execute_result"
    }
   ],
   "source": [
    "a[5:0:-2]"
   ]
  },
  {
   "cell_type": "code",
   "execution_count": 125,
   "id": "cae7eac8",
   "metadata": {},
   "outputs": [
    {
     "data": {
      "text/plain": [
       "[]"
      ]
     },
     "execution_count": 125,
     "metadata": {},
     "output_type": "execute_result"
    }
   ],
   "source": [
    "a[6:-1:-6]"
   ]
  },
  {
   "cell_type": "code",
   "execution_count": 126,
   "id": "be55d6d1",
   "metadata": {},
   "outputs": [
    {
     "data": {
      "text/plain": [
       "[]"
      ]
     },
     "execution_count": 126,
     "metadata": {},
     "output_type": "execute_result"
    }
   ],
   "source": [
    "a[-6:-8:1]"
   ]
  },
  {
   "cell_type": "code",
   "execution_count": 129,
   "id": "6ecfd5fd",
   "metadata": {},
   "outputs": [
    {
     "data": {
      "text/plain": [
       "[14, 4]"
      ]
     },
     "execution_count": 129,
     "metadata": {},
     "output_type": "execute_result"
    }
   ],
   "source": [
    "a[-1:-8:-5]\n"
   ]
  },
  {
   "cell_type": "code",
   "execution_count": 130,
   "id": "971065ba",
   "metadata": {},
   "outputs": [
    {
     "data": {
      "text/plain": [
       "[14, 2]"
      ]
     },
     "execution_count": 130,
     "metadata": {},
     "output_type": "execute_result"
    }
   ],
   "source": [
    "a[-1:-8:-6]"
   ]
  },
  {
   "cell_type": "code",
   "execution_count": null,
   "id": "19ebed8f",
   "metadata": {},
   "outputs": [],
   "source": []
  },
  {
   "cell_type": "code",
   "execution_count": null,
   "id": "a537b7c1",
   "metadata": {},
   "outputs": [],
   "source": []
  },
  {
   "cell_type": "markdown",
   "id": "0c332ce9",
   "metadata": {},
   "source": [
    "# Tuple data type"
   ]
  },
  {
   "cell_type": "code",
   "execution_count": null,
   "id": "bc5aa73b",
   "metadata": {},
   "outputs": [],
   "source": []
  },
  {
   "cell_type": "code",
   "execution_count": null,
   "id": "a65e4021",
   "metadata": {},
   "outputs": [],
   "source": []
  },
  {
   "cell_type": "code",
   "execution_count": null,
   "id": "bc0ff89c",
   "metadata": {},
   "outputs": [],
   "source": []
  },
  {
   "cell_type": "markdown",
   "id": "e00e64bf",
   "metadata": {},
   "source": [
    "# hetrogeneous type of data,static,immutable,indexed,ordered"
   ]
  },
  {
   "cell_type": "code",
   "execution_count": 107,
   "id": "b5fc6db0",
   "metadata": {},
   "outputs": [],
   "source": [
    "a=(2,7,4.5,\"qwerty\",[5,6,7])"
   ]
  },
  {
   "cell_type": "code",
   "execution_count": 108,
   "id": "a89446d5",
   "metadata": {},
   "outputs": [
    {
     "data": {
      "text/plain": [
       "(2, 7, 4.5, 'qwerty', [5, 6, 7])"
      ]
     },
     "execution_count": 108,
     "metadata": {},
     "output_type": "execute_result"
    }
   ],
   "source": [
    "a"
   ]
  },
  {
   "cell_type": "code",
   "execution_count": 109,
   "id": "d0243845",
   "metadata": {},
   "outputs": [
    {
     "data": {
      "text/plain": [
       "tuple"
      ]
     },
     "execution_count": 109,
     "metadata": {},
     "output_type": "execute_result"
    }
   ],
   "source": [
    "type(a)"
   ]
  },
  {
   "cell_type": "code",
   "execution_count": 110,
   "id": "228aeb9f",
   "metadata": {},
   "outputs": [
    {
     "data": {
      "text/plain": [
       "2"
      ]
     },
     "execution_count": 110,
     "metadata": {},
     "output_type": "execute_result"
    }
   ],
   "source": [
    "a[0]"
   ]
  },
  {
   "cell_type": "code",
   "execution_count": 112,
   "id": "651c5457",
   "metadata": {},
   "outputs": [
    {
     "data": {
      "text/plain": [
       "'t'"
      ]
     },
     "execution_count": 112,
     "metadata": {},
     "output_type": "execute_result"
    }
   ],
   "source": [
    "a[-2][4]"
   ]
  },
  {
   "cell_type": "code",
   "execution_count": 114,
   "id": "c71bb8e3",
   "metadata": {},
   "outputs": [
    {
     "data": {
      "text/plain": [
       "5"
      ]
     },
     "execution_count": 114,
     "metadata": {},
     "output_type": "execute_result"
    }
   ],
   "source": [
    "a[-1][0]"
   ]
  },
  {
   "cell_type": "code",
   "execution_count": 115,
   "id": "5faf6799",
   "metadata": {},
   "outputs": [
    {
     "data": {
      "text/plain": [
       "1"
      ]
     },
     "execution_count": 115,
     "metadata": {},
     "output_type": "execute_result"
    }
   ],
   "source": [
    "a.count(2)"
   ]
  },
  {
   "cell_type": "code",
   "execution_count": 116,
   "id": "ba990917",
   "metadata": {},
   "outputs": [
    {
     "data": {
      "text/plain": [
       "2"
      ]
     },
     "execution_count": 116,
     "metadata": {},
     "output_type": "execute_result"
    }
   ],
   "source": [
    "a.index(4.5)"
   ]
  },
  {
   "cell_type": "code",
   "execution_count": 119,
   "id": "680b61b6",
   "metadata": {},
   "outputs": [],
   "source": [
    "a=(7,)"
   ]
  },
  {
   "cell_type": "code",
   "execution_count": 120,
   "id": "353befe0",
   "metadata": {},
   "outputs": [
    {
     "data": {
      "text/plain": [
       "tuple"
      ]
     },
     "execution_count": 120,
     "metadata": {},
     "output_type": "execute_result"
    }
   ],
   "source": [
    "type(a)"
   ]
  },
  {
   "cell_type": "code",
   "execution_count": null,
   "id": "e8c2671b",
   "metadata": {},
   "outputs": [],
   "source": []
  },
  {
   "cell_type": "markdown",
   "id": "a527fce9",
   "metadata": {},
   "source": [
    "# Dictionary data type"
   ]
  },
  {
   "cell_type": "markdown",
   "id": "840d7327",
   "metadata": {},
   "source": [
    "# hetrogeneous,unindexed,mutable,ordered,key:value"
   ]
  },
  {
   "cell_type": "code",
   "execution_count": 1,
   "id": "c8d8d9be",
   "metadata": {},
   "outputs": [],
   "source": [
    "d={\n",
    "    \"name\":\"abc\",\n",
    "    \"age\":13,\n",
    "    \"subjects\":[\"maths\",\"sc\",\"dms\",\"m3\"]\n",
    "}"
   ]
  },
  {
   "cell_type": "code",
   "execution_count": 3,
   "id": "57b0c3b8",
   "metadata": {},
   "outputs": [
    {
     "data": {
      "text/plain": [
       "dict"
      ]
     },
     "execution_count": 3,
     "metadata": {},
     "output_type": "execute_result"
    }
   ],
   "source": [
    "type(d)"
   ]
  },
  {
   "cell_type": "code",
   "execution_count": 4,
   "id": "f02df0fd",
   "metadata": {},
   "outputs": [
    {
     "data": {
      "text/plain": [
       "'abc'"
      ]
     },
     "execution_count": 4,
     "metadata": {},
     "output_type": "execute_result"
    }
   ],
   "source": [
    "d[\"name\"]"
   ]
  },
  {
   "cell_type": "code",
   "execution_count": 6,
   "id": "eb50b4a7",
   "metadata": {},
   "outputs": [
    {
     "data": {
      "text/plain": [
       "'sc'"
      ]
     },
     "execution_count": 6,
     "metadata": {},
     "output_type": "execute_result"
    }
   ],
   "source": [
    "d[\"subjects\"][1]"
   ]
  },
  {
   "cell_type": "code",
   "execution_count": 7,
   "id": "95bcf93c",
   "metadata": {},
   "outputs": [
    {
     "data": {
      "text/plain": [
       "['m3', 'maths']"
      ]
     },
     "execution_count": 7,
     "metadata": {},
     "output_type": "execute_result"
    }
   ],
   "source": [
    "d[\"subjects\"][-1:-5:-3]"
   ]
  },
  {
   "cell_type": "code",
   "execution_count": 8,
   "id": "550a0153",
   "metadata": {},
   "outputs": [
    {
     "data": {
      "text/plain": [
       "['m3', 'maths']"
      ]
     },
     "execution_count": 8,
     "metadata": {},
     "output_type": "execute_result"
    }
   ],
   "source": [
    "d[\"subjects\"][3::-3]"
   ]
  },
  {
   "cell_type": "code",
   "execution_count": 9,
   "id": "73cde316",
   "metadata": {},
   "outputs": [
    {
     "data": {
      "text/plain": [
       "13"
      ]
     },
     "execution_count": 9,
     "metadata": {},
     "output_type": "execute_result"
    }
   ],
   "source": [
    "d.get(\"age\")"
   ]
  },
  {
   "cell_type": "code",
   "execution_count": 10,
   "id": "3e889b6c",
   "metadata": {},
   "outputs": [
    {
     "ename": "KeyError",
     "evalue": "'address'",
     "output_type": "error",
     "traceback": [
      "\u001b[1;31m---------------------------------------------------------------------------\u001b[0m",
      "\u001b[1;31mKeyError\u001b[0m                                  Traceback (most recent call last)",
      "\u001b[1;32m~\\AppData\\Local\\Temp/ipykernel_5820/739227478.py\u001b[0m in \u001b[0;36m<module>\u001b[1;34m\u001b[0m\n\u001b[1;32m----> 1\u001b[1;33m \u001b[0md\u001b[0m\u001b[1;33m[\u001b[0m\u001b[1;34m\"address\"\u001b[0m\u001b[1;33m]\u001b[0m\u001b[1;33m\u001b[0m\u001b[1;33m\u001b[0m\u001b[0m\n\u001b[0m",
      "\u001b[1;31mKeyError\u001b[0m: 'address'"
     ]
    }
   ],
   "source": [
    "d[\"address\"]"
   ]
  },
  {
   "cell_type": "code",
   "execution_count": 14,
   "id": "cd25c44e",
   "metadata": {},
   "outputs": [
    {
     "data": {
      "text/plain": [
       "'not available'"
      ]
     },
     "execution_count": 14,
     "metadata": {},
     "output_type": "execute_result"
    }
   ],
   "source": [
    "d.get(\"address\",\"not available\")"
   ]
  },
  {
   "cell_type": "code",
   "execution_count": 15,
   "id": "c1a25f54",
   "metadata": {},
   "outputs": [],
   "source": [
    "d[\"address\"]=\"new delhi\""
   ]
  },
  {
   "cell_type": "code",
   "execution_count": 16,
   "id": "4f93b338",
   "metadata": {},
   "outputs": [
    {
     "data": {
      "text/plain": [
       "{'name': 'abc',\n",
       " 'age': 13,\n",
       " 'subjects': ['maths', 'sc', 'dms', 'm3'],\n",
       " 'address': 'new delhi'}"
      ]
     },
     "execution_count": 16,
     "metadata": {},
     "output_type": "execute_result"
    }
   ],
   "source": [
    "d"
   ]
  },
  {
   "cell_type": "code",
   "execution_count": 17,
   "id": "97391884",
   "metadata": {},
   "outputs": [],
   "source": [
    "d[\"name\"]=\"qwerty\""
   ]
  },
  {
   "cell_type": "code",
   "execution_count": 18,
   "id": "fab93c82",
   "metadata": {},
   "outputs": [
    {
     "data": {
      "text/plain": [
       "{'name': 'qwerty',\n",
       " 'age': 13,\n",
       " 'subjects': ['maths', 'sc', 'dms', 'm3'],\n",
       " 'address': 'new delhi'}"
      ]
     },
     "execution_count": 18,
     "metadata": {},
     "output_type": "execute_result"
    }
   ],
   "source": [
    "d"
   ]
  },
  {
   "cell_type": "code",
   "execution_count": 19,
   "id": "9f8aace7",
   "metadata": {},
   "outputs": [],
   "source": [
    "d[\"subjects\"][-1]=\"python\""
   ]
  },
  {
   "cell_type": "code",
   "execution_count": 20,
   "id": "0aecfd78",
   "metadata": {},
   "outputs": [
    {
     "data": {
      "text/plain": [
       "{'name': 'qwerty',\n",
       " 'age': 13,\n",
       " 'subjects': ['maths', 'sc', 'dms', 'python'],\n",
       " 'address': 'new delhi'}"
      ]
     },
     "execution_count": 20,
     "metadata": {},
     "output_type": "execute_result"
    }
   ],
   "source": [
    "d"
   ]
  },
  {
   "cell_type": "code",
   "execution_count": 21,
   "id": "a86b72dc",
   "metadata": {},
   "outputs": [],
   "source": [
    "d.update({\n",
    "    \"age\":23,\n",
    "    \"country\":\"India\",\n",
    "    \"course\":[\"computer science\",\"IT\",\"CE\"]\n",
    "})"
   ]
  },
  {
   "cell_type": "code",
   "execution_count": 22,
   "id": "4ed46bf7",
   "metadata": {},
   "outputs": [
    {
     "data": {
      "text/plain": [
       "{'name': 'qwerty',\n",
       " 'age': 23,\n",
       " 'subjects': ['maths', 'sc', 'dms', 'python'],\n",
       " 'address': 'new delhi',\n",
       " 'country': 'India',\n",
       " 'course': ['computer science', 'IT', 'CE']}"
      ]
     },
     "execution_count": 22,
     "metadata": {},
     "output_type": "execute_result"
    }
   ],
   "source": [
    "d"
   ]
  },
  {
   "cell_type": "code",
   "execution_count": 23,
   "id": "864aff23",
   "metadata": {},
   "outputs": [
    {
     "data": {
      "text/plain": [
       "dict_items([('name', 'qwerty'), ('age', 23), ('subjects', ['maths', 'sc', 'dms', 'python']), ('address', 'new delhi'), ('country', 'India'), ('course', ['computer science', 'IT', 'CE'])])"
      ]
     },
     "execution_count": 23,
     "metadata": {},
     "output_type": "execute_result"
    }
   ],
   "source": [
    "d.items()"
   ]
  },
  {
   "cell_type": "code",
   "execution_count": 24,
   "id": "d3ec55bf",
   "metadata": {},
   "outputs": [
    {
     "data": {
      "text/plain": [
       "dict_keys(['name', 'age', 'subjects', 'address', 'country', 'course'])"
      ]
     },
     "execution_count": 24,
     "metadata": {},
     "output_type": "execute_result"
    }
   ],
   "source": [
    "d.keys()"
   ]
  },
  {
   "cell_type": "code",
   "execution_count": 25,
   "id": "3862732c",
   "metadata": {},
   "outputs": [
    {
     "data": {
      "text/plain": [
       "dict_values(['qwerty', 23, ['maths', 'sc', 'dms', 'python'], 'new delhi', 'India', ['computer science', 'IT', 'CE']])"
      ]
     },
     "execution_count": 25,
     "metadata": {},
     "output_type": "execute_result"
    }
   ],
   "source": [
    "d.values()"
   ]
  },
  {
   "cell_type": "code",
   "execution_count": 26,
   "id": "d1243186",
   "metadata": {},
   "outputs": [
    {
     "data": {
      "text/plain": [
       "23"
      ]
     },
     "execution_count": 26,
     "metadata": {},
     "output_type": "execute_result"
    }
   ],
   "source": [
    "d.pop(\"age\")"
   ]
  },
  {
   "cell_type": "code",
   "execution_count": 27,
   "id": "cac54b9f",
   "metadata": {},
   "outputs": [
    {
     "data": {
      "text/plain": [
       "{'name': 'qwerty',\n",
       " 'subjects': ['maths', 'sc', 'dms', 'python'],\n",
       " 'address': 'new delhi',\n",
       " 'country': 'India',\n",
       " 'course': ['computer science', 'IT', 'CE']}"
      ]
     },
     "execution_count": 27,
     "metadata": {},
     "output_type": "execute_result"
    }
   ],
   "source": [
    "d"
   ]
  },
  {
   "cell_type": "code",
   "execution_count": 28,
   "id": "d7a704fe",
   "metadata": {},
   "outputs": [],
   "source": [
    "d.clear()"
   ]
  },
  {
   "cell_type": "code",
   "execution_count": 29,
   "id": "3afdac5a",
   "metadata": {},
   "outputs": [
    {
     "data": {
      "text/plain": [
       "{}"
      ]
     },
     "execution_count": 29,
     "metadata": {},
     "output_type": "execute_result"
    }
   ],
   "source": [
    "d"
   ]
  },
  {
   "cell_type": "code",
   "execution_count": 31,
   "id": "50e49e5f",
   "metadata": {},
   "outputs": [],
   "source": [
    "del d"
   ]
  },
  {
   "cell_type": "code",
   "execution_count": 32,
   "id": "e9c2271c",
   "metadata": {},
   "outputs": [
    {
     "ename": "NameError",
     "evalue": "name 'd' is not defined",
     "output_type": "error",
     "traceback": [
      "\u001b[1;31m---------------------------------------------------------------------------\u001b[0m",
      "\u001b[1;31mNameError\u001b[0m                                 Traceback (most recent call last)",
      "\u001b[1;32m~\\AppData\\Local\\Temp/ipykernel_5820/3161387801.py\u001b[0m in \u001b[0;36m<module>\u001b[1;34m\u001b[0m\n\u001b[1;32m----> 1\u001b[1;33m \u001b[0md\u001b[0m\u001b[1;33m\u001b[0m\u001b[1;33m\u001b[0m\u001b[0m\n\u001b[0m",
      "\u001b[1;31mNameError\u001b[0m: name 'd' is not defined"
     ]
    }
   ],
   "source": [
    "d"
   ]
  },
  {
   "cell_type": "markdown",
   "id": "2932f35f",
   "metadata": {},
   "source": [
    "# Set datatype"
   ]
  },
  {
   "cell_type": "markdown",
   "id": "c3de0df7",
   "metadata": {},
   "source": [
    "# hetrogeneous,mutable,unindexed,unordered"
   ]
  },
  {
   "cell_type": "code",
   "execution_count": 34,
   "id": "2bbd0ca5",
   "metadata": {},
   "outputs": [],
   "source": [
    "s={1,2,5,1,7,8,9}"
   ]
  },
  {
   "cell_type": "code",
   "execution_count": 35,
   "id": "a187ad06",
   "metadata": {},
   "outputs": [
    {
     "data": {
      "text/plain": [
       "{1, 2, 5, 7, 8, 9}"
      ]
     },
     "execution_count": 35,
     "metadata": {},
     "output_type": "execute_result"
    }
   ],
   "source": [
    "s"
   ]
  },
  {
   "cell_type": "code",
   "execution_count": 36,
   "id": "ecc79a5b",
   "metadata": {},
   "outputs": [
    {
     "data": {
      "text/plain": [
       "set"
      ]
     },
     "execution_count": 36,
     "metadata": {},
     "output_type": "execute_result"
    }
   ],
   "source": [
    "type(s)"
   ]
  },
  {
   "cell_type": "code",
   "execution_count": 43,
   "id": "9ffbe29a",
   "metadata": {},
   "outputs": [],
   "source": [
    "s={6,9,9.8,\"abc\",(3,4,5)}"
   ]
  },
  {
   "cell_type": "code",
   "execution_count": 41,
   "id": "eefed678",
   "metadata": {},
   "outputs": [
    {
     "data": {
      "text/plain": [
       "{(3, 4, 5), 6, 9, 9.8, 'abc'}"
      ]
     },
     "execution_count": 41,
     "metadata": {},
     "output_type": "execute_result"
    }
   ],
   "source": [
    "s"
   ]
  },
  {
   "cell_type": "code",
   "execution_count": 39,
   "id": "3cbc6d14",
   "metadata": {},
   "outputs": [
    {
     "data": {
      "text/plain": [
       "set"
      ]
     },
     "execution_count": 39,
     "metadata": {},
     "output_type": "execute_result"
    }
   ],
   "source": [
    "type(s)"
   ]
  },
  {
   "cell_type": "code",
   "execution_count": 44,
   "id": "580bf080",
   "metadata": {},
   "outputs": [],
   "source": [
    "s.add(565)"
   ]
  },
  {
   "cell_type": "code",
   "execution_count": 45,
   "id": "8d8abaf2",
   "metadata": {},
   "outputs": [
    {
     "data": {
      "text/plain": [
       "{(3, 4, 5), 565, 6, 9, 9.8, 'abc'}"
      ]
     },
     "execution_count": 45,
     "metadata": {},
     "output_type": "execute_result"
    }
   ],
   "source": [
    "s"
   ]
  },
  {
   "cell_type": "code",
   "execution_count": 46,
   "id": "8cf7856a",
   "metadata": {},
   "outputs": [],
   "source": [
    "s.add(\"qwerty\")"
   ]
  },
  {
   "cell_type": "code",
   "execution_count": 47,
   "id": "994febdc",
   "metadata": {},
   "outputs": [
    {
     "data": {
      "text/plain": [
       "{(3, 4, 5), 565, 6, 9, 9.8, 'abc', 'qwerty'}"
      ]
     },
     "execution_count": 47,
     "metadata": {},
     "output_type": "execute_result"
    }
   ],
   "source": [
    "s"
   ]
  },
  {
   "cell_type": "code",
   "execution_count": 48,
   "id": "b3d02b11",
   "metadata": {},
   "outputs": [],
   "source": [
    "s1,s2={1,2,3,4,5},{3,4,5,6,7}"
   ]
  },
  {
   "cell_type": "code",
   "execution_count": 49,
   "id": "bdafe3fe",
   "metadata": {},
   "outputs": [
    {
     "data": {
      "text/plain": [
       "{1, 2}"
      ]
     },
     "execution_count": 49,
     "metadata": {},
     "output_type": "execute_result"
    }
   ],
   "source": [
    "s1-s2"
   ]
  },
  {
   "cell_type": "code",
   "execution_count": 50,
   "id": "8577a8c6",
   "metadata": {},
   "outputs": [
    {
     "data": {
      "text/plain": [
       "{1, 2}"
      ]
     },
     "execution_count": 50,
     "metadata": {},
     "output_type": "execute_result"
    }
   ],
   "source": [
    "s1.difference(s2)"
   ]
  },
  {
   "cell_type": "code",
   "execution_count": 51,
   "id": "a9334de4",
   "metadata": {},
   "outputs": [
    {
     "data": {
      "text/plain": [
       "{6, 7}"
      ]
     },
     "execution_count": 51,
     "metadata": {},
     "output_type": "execute_result"
    }
   ],
   "source": [
    "s2.difference(s1)"
   ]
  },
  {
   "cell_type": "code",
   "execution_count": 53,
   "id": "9bf8723e",
   "metadata": {},
   "outputs": [
    {
     "data": {
      "text/plain": [
       "{1, 2, 3, 4, 5, 6, 7}"
      ]
     },
     "execution_count": 53,
     "metadata": {},
     "output_type": "execute_result"
    }
   ],
   "source": [
    "s1.union(s2)"
   ]
  },
  {
   "cell_type": "code",
   "execution_count": 54,
   "id": "1d0f7778",
   "metadata": {},
   "outputs": [
    {
     "data": {
      "text/plain": [
       "{3, 4, 5}"
      ]
     },
     "execution_count": 54,
     "metadata": {},
     "output_type": "execute_result"
    }
   ],
   "source": [
    "s1.intersection(s2)"
   ]
  },
  {
   "cell_type": "code",
   "execution_count": null,
   "id": "c0c3981a",
   "metadata": {},
   "outputs": [],
   "source": []
  },
  {
   "cell_type": "markdown",
   "id": "bbb8f088",
   "metadata": {},
   "source": [
    "# conditional statements"
   ]
  },
  {
   "cell_type": "markdown",
   "id": "26767951",
   "metadata": {},
   "source": [
    "# if-elif-else"
   ]
  },
  {
   "cell_type": "code",
   "execution_count": 55,
   "id": "a6a4bcab",
   "metadata": {},
   "outputs": [],
   "source": [
    "a=10"
   ]
  },
  {
   "cell_type": "code",
   "execution_count": 56,
   "id": "e0f7530d",
   "metadata": {},
   "outputs": [
    {
     "name": "stdout",
     "output_type": "stream",
     "text": [
      "greater than 8\n"
     ]
    }
   ],
   "source": [
    "if a>8:\n",
    "    print(\"greater than 8\")\n",
    "    "
   ]
  },
  {
   "cell_type": "code",
   "execution_count": 58,
   "id": "4e725fd7",
   "metadata": {},
   "outputs": [
    {
     "name": "stdout",
     "output_type": "stream",
     "text": [
      "greater than 8\n"
     ]
    }
   ],
   "source": [
    "if a<8:\n",
    "    print(\"smaller than 8\")\n",
    "else:\n",
    "    print(\"greater than 8\")"
   ]
  },
  {
   "cell_type": "code",
   "execution_count": 61,
   "id": "52dc56db",
   "metadata": {},
   "outputs": [
    {
     "name": "stdout",
     "output_type": "stream",
     "text": [
      "enter the value for a : 56\n",
      "enter the value for b : 56\n",
      "a equals to b\n"
     ]
    }
   ],
   "source": [
    "a,b=int(input(\"enter the value for a : \")),int(input(\"enter the value for b : \"))\n",
    "if a>b:\n",
    "    print(\"a is greater than b\")\n",
    "elif a==b:\n",
    "    print(\"a equals to b\")\n",
    "else:\n",
    "    print(\"a is smaller than b\")"
   ]
  },
  {
   "cell_type": "code",
   "execution_count": 63,
   "id": "8320f149",
   "metadata": {},
   "outputs": [
    {
     "name": "stdout",
     "output_type": "stream",
     "text": [
      "enter the value for a : 34\n",
      "enter the value for b : 23\n",
      "enter the value for b : 78\n"
     ]
    }
   ],
   "source": [
    "a,b,c=int(input(\"enter the value for a : \")),int(input(\"enter the value for b : \")),int(input(\"enter the value for b : \"))\n",
    "\n",
    "if a>b and a>c:\n",
    "    print(\"both conditions are true\")"
   ]
  },
  {
   "cell_type": "code",
   "execution_count": 65,
   "id": "ab4576eb",
   "metadata": {},
   "outputs": [
    {
     "name": "stdout",
     "output_type": "stream",
     "text": [
      "enter the value for a : 34\n",
      "enter the value for b : 34\n",
      "enter the value for b : 23\n",
      "anyone condition is true\n"
     ]
    }
   ],
   "source": [
    "a,b,c=int(input(\"enter the value for a : \")),int(input(\"enter the value for b : \")),int(input(\"enter the value for b : \"))\n",
    "\n",
    "if a>b or a>c:\n",
    "    print(\"anyone condition is true\")"
   ]
  },
  {
   "cell_type": "code",
   "execution_count": 67,
   "id": "afe10c9b",
   "metadata": {},
   "outputs": [],
   "source": [
    "if 5>9:\n",
    "    pass"
   ]
  },
  {
   "cell_type": "markdown",
   "id": "e1a33e9f",
   "metadata": {},
   "source": []
  },
  {
   "cell_type": "markdown",
   "id": "dd5ff95b",
   "metadata": {},
   "source": [
    "# Loops in Python"
   ]
  },
  {
   "cell_type": "markdown",
   "id": "63a8d89b",
   "metadata": {},
   "source": [
    "# While loop"
   ]
  },
  {
   "cell_type": "code",
   "execution_count": 1,
   "id": "320ceb62",
   "metadata": {},
   "outputs": [
    {
     "name": "stdout",
     "output_type": "stream",
     "text": [
      "python\n",
      "python\n",
      "python\n",
      "python\n",
      "python\n"
     ]
    }
   ],
   "source": [
    "print(\"python\")\n",
    "print(\"python\")\n",
    "print(\"python\")\n",
    "print(\"python\")\n",
    "print(\"python\")"
   ]
  },
  {
   "cell_type": "code",
   "execution_count": 3,
   "id": "f948f11b",
   "metadata": {},
   "outputs": [
    {
     "name": "stdout",
     "output_type": "stream",
     "text": [
      "python\n",
      "python\n",
      "python\n",
      "python\n",
      "python\n"
     ]
    }
   ],
   "source": [
    "a=1\n",
    "while a<=5:\n",
    "    print(\"python\")\n",
    "    a=a+1\n",
    "    "
   ]
  },
  {
   "cell_type": "code",
   "execution_count": 4,
   "id": "8fc12b78",
   "metadata": {},
   "outputs": [
    {
     "name": "stdout",
     "output_type": "stream",
     "text": [
      "python\n",
      "python\n",
      "python\n",
      "python\n",
      "python\n"
     ]
    }
   ],
   "source": [
    "a=5\n",
    "while a>=1:\n",
    "    print(\"python\")\n",
    "    a=a-1"
   ]
  },
  {
   "cell_type": "markdown",
   "id": "15455f92",
   "metadata": {},
   "source": [
    "# Nested Loop\n",
    "loop inside loop"
   ]
  },
  {
   "cell_type": "code",
   "execution_count": 6,
   "id": "71526c48",
   "metadata": {},
   "outputs": [
    {
     "name": "stdout",
     "output_type": "stream",
     "text": [
      "***\n",
      "***\n",
      "***\n",
      "***\n"
     ]
    }
   ],
   "source": [
    "print(\"***\")\n",
    "print(\"***\")\n",
    "print(\"***\")\n",
    "print(\"***\")\n"
   ]
  },
  {
   "cell_type": "code",
   "execution_count": 7,
   "id": "0247c01c",
   "metadata": {},
   "outputs": [
    {
     "name": "stdout",
     "output_type": "stream",
     "text": [
      "***\n",
      "***\n",
      "***\n",
      "***\n"
     ]
    }
   ],
   "source": [
    "a=1\n",
    "while a<=4:\n",
    "    print(\"***\")\n",
    "    a=a+1"
   ]
  },
  {
   "cell_type": "code",
   "execution_count": 9,
   "id": "ff7376c1",
   "metadata": {},
   "outputs": [
    {
     "name": "stdout",
     "output_type": "stream",
     "text": [
      "* * * "
     ]
    }
   ],
   "source": [
    "a=1\n",
    "while a<=3:\n",
    "    print(\"*\",end=\" \")\n",
    "    a=a+1"
   ]
  },
  {
   "cell_type": "code",
   "execution_count": 16,
   "id": "44d87f16",
   "metadata": {},
   "outputs": [
    {
     "name": "stdout",
     "output_type": "stream",
     "text": [
      "1 \n",
      "2 2 \n",
      "3 3 3 \n",
      "4 4 4 4 \n"
     ]
    }
   ],
   "source": [
    "a=1\n",
    "while a<=4:\n",
    "    b=1\n",
    "    while b<=a:\n",
    "        print(a,end=\" \")\n",
    "        b=b+1\n",
    "    print()\n",
    "    a=a+1"
   ]
  },
  {
   "cell_type": "markdown",
   "id": "8f5116ad",
   "metadata": {},
   "source": [
    "# Membership operator\n",
    "in , not in"
   ]
  },
  {
   "cell_type": "code",
   "execution_count": 17,
   "id": "1d5db775",
   "metadata": {},
   "outputs": [],
   "source": [
    "a=[1,2,5,3,6,7]"
   ]
  },
  {
   "cell_type": "code",
   "execution_count": 18,
   "id": "8945a716",
   "metadata": {},
   "outputs": [
    {
     "data": {
      "text/plain": [
       "True"
      ]
     },
     "execution_count": 18,
     "metadata": {},
     "output_type": "execute_result"
    }
   ],
   "source": [
    "2 in a"
   ]
  },
  {
   "cell_type": "code",
   "execution_count": 19,
   "id": "fb321e63",
   "metadata": {},
   "outputs": [
    {
     "data": {
      "text/plain": [
       "False"
      ]
     },
     "execution_count": 19,
     "metadata": {},
     "output_type": "execute_result"
    }
   ],
   "source": [
    "22 in a"
   ]
  },
  {
   "cell_type": "code",
   "execution_count": 20,
   "id": "b2116c63",
   "metadata": {},
   "outputs": [
    {
     "data": {
      "text/plain": [
       "False"
      ]
     },
     "execution_count": 20,
     "metadata": {},
     "output_type": "execute_result"
    }
   ],
   "source": [
    "2 not in a"
   ]
  },
  {
   "cell_type": "code",
   "execution_count": 21,
   "id": "0b658ff1",
   "metadata": {},
   "outputs": [
    {
     "data": {
      "text/plain": [
       "True"
      ]
     },
     "execution_count": 21,
     "metadata": {},
     "output_type": "execute_result"
    }
   ],
   "source": [
    "22 not in a"
   ]
  },
  {
   "cell_type": "markdown",
   "id": "d6105ce5",
   "metadata": {},
   "source": [
    "# identity operator\n",
    "is, is not"
   ]
  },
  {
   "cell_type": "code",
   "execution_count": 22,
   "id": "cc43f7df",
   "metadata": {},
   "outputs": [],
   "source": [
    "a,b,c=2,3,2"
   ]
  },
  {
   "cell_type": "code",
   "execution_count": 24,
   "id": "58ae1736",
   "metadata": {},
   "outputs": [
    {
     "data": {
      "text/plain": [
       "False"
      ]
     },
     "execution_count": 24,
     "metadata": {},
     "output_type": "execute_result"
    }
   ],
   "source": [
    "a is b"
   ]
  },
  {
   "cell_type": "code",
   "execution_count": 23,
   "id": "1adbe1af",
   "metadata": {},
   "outputs": [
    {
     "data": {
      "text/plain": [
       "(2111824658704, 2111824658736)"
      ]
     },
     "execution_count": 23,
     "metadata": {},
     "output_type": "execute_result"
    }
   ],
   "source": [
    "id(a),id(b)"
   ]
  },
  {
   "cell_type": "code",
   "execution_count": 25,
   "id": "a31b9a91",
   "metadata": {},
   "outputs": [
    {
     "data": {
      "text/plain": [
       "True"
      ]
     },
     "execution_count": 25,
     "metadata": {},
     "output_type": "execute_result"
    }
   ],
   "source": [
    "a is c"
   ]
  },
  {
   "cell_type": "code",
   "execution_count": 26,
   "id": "ace86912",
   "metadata": {},
   "outputs": [
    {
     "data": {
      "text/plain": [
       "(2111824658704, 2111824658704)"
      ]
     },
     "execution_count": 26,
     "metadata": {},
     "output_type": "execute_result"
    }
   ],
   "source": [
    "id(a),id(c)"
   ]
  },
  {
   "cell_type": "code",
   "execution_count": 27,
   "id": "dbc7f90b",
   "metadata": {},
   "outputs": [
    {
     "data": {
      "text/plain": [
       "True"
      ]
     },
     "execution_count": 27,
     "metadata": {},
     "output_type": "execute_result"
    }
   ],
   "source": [
    "a is not b"
   ]
  },
  {
   "cell_type": "code",
   "execution_count": 28,
   "id": "37e4abbf",
   "metadata": {},
   "outputs": [
    {
     "data": {
      "text/plain": [
       "False"
      ]
     },
     "execution_count": 28,
     "metadata": {},
     "output_type": "execute_result"
    }
   ],
   "source": [
    "a is not c"
   ]
  },
  {
   "cell_type": "markdown",
   "id": "5ad38b34",
   "metadata": {},
   "source": [
    "# For loop"
   ]
  },
  {
   "cell_type": "code",
   "execution_count": 29,
   "id": "0e255ddb",
   "metadata": {},
   "outputs": [],
   "source": [
    "a=[2,7,4,5,6]"
   ]
  },
  {
   "cell_type": "code",
   "execution_count": 33,
   "id": "8767f162",
   "metadata": {},
   "outputs": [
    {
     "name": "stdout",
     "output_type": "stream",
     "text": [
      "2 7 4 5 6 "
     ]
    }
   ],
   "source": [
    "for x in a:\n",
    "    print(x,end=\" \")"
   ]
  },
  {
   "cell_type": "code",
   "execution_count": 34,
   "id": "d138e5a7",
   "metadata": {},
   "outputs": [
    {
     "name": "stdout",
     "output_type": "stream",
     "text": [
      "python\n",
      "python\n",
      "python\n",
      "python\n",
      "python\n"
     ]
    }
   ],
   "source": [
    "for x in a:\n",
    "    print(\"python\")"
   ]
  },
  {
   "cell_type": "code",
   "execution_count": 38,
   "id": "9696c7d6",
   "metadata": {},
   "outputs": [
    {
     "name": "stdout",
     "output_type": "stream",
     "text": [
      "6\n",
      "6\n",
      "6\n",
      "6\n",
      "6\n"
     ]
    }
   ],
   "source": [
    "for i in range(1,6,1):\n",
    "    print(x)"
   ]
  },
  {
   "cell_type": "code",
   "execution_count": 39,
   "id": "e8b87153",
   "metadata": {},
   "outputs": [
    {
     "ename": "IndentationError",
     "evalue": "expected an indented block after 'for' statement on line 1 (Temp/ipykernel_17884/2378510889.py, line 1)",
     "output_type": "error",
     "traceback": [
      "\u001b[1;36m  File \u001b[1;32m\"C:\\Users\\91798\\AppData\\Local\\Temp/ipykernel_17884/2378510889.py\"\u001b[1;36m, line \u001b[1;32m1\u001b[0m\n\u001b[1;33m    for i in range(11):\u001b[0m\n\u001b[1;37m                       ^\u001b[0m\n\u001b[1;31mIndentationError\u001b[0m\u001b[1;31m:\u001b[0m expected an indented block after 'for' statement on line 1\n"
     ]
    }
   ],
   "source": [
    "for i in range(11):"
   ]
  },
  {
   "cell_type": "code",
   "execution_count": 40,
   "id": "6f46cbc3",
   "metadata": {},
   "outputs": [
    {
     "name": "stdout",
     "output_type": "stream",
     "text": [
      "1\n",
      "2\n",
      "3\n",
      "4\n",
      "5\n",
      "6\n",
      "7\n",
      "8\n",
      "9\n",
      "10\n"
     ]
    }
   ],
   "source": [
    "for i in range(1,11,1):\n",
    "    print(i)\n"
   ]
  },
  {
   "cell_type": "code",
   "execution_count": 43,
   "id": "094b43a9",
   "metadata": {},
   "outputs": [
    {
     "name": "stdout",
     "output_type": "stream",
     "text": [
      "1\n",
      "2\n",
      "3\n",
      "4\n",
      "5\n",
      "6\n",
      "7\n",
      "8\n",
      "9\n",
      "10\n"
     ]
    }
   ],
   "source": [
    "\n",
    "for i in range(1,11):\n",
    "  print(i)\n",
    "\n"
   ]
  },
  {
   "cell_type": "code",
   "execution_count": 48,
   "id": "a7036f23",
   "metadata": {},
   "outputs": [
    {
     "name": "stdout",
     "output_type": "stream",
     "text": [
      "5\n",
      "10\n",
      "15\n",
      "20\n",
      "25\n",
      "30\n",
      "35\n",
      "40\n",
      "45\n",
      "50\n"
     ]
    }
   ],
   "source": [
    "for i in range(1,11):\n",
    "    print(i*5)\n"
   ]
  },
  {
   "cell_type": "code",
   "execution_count": 50,
   "id": "4d20d0b7",
   "metadata": {},
   "outputs": [
    {
     "name": "stdout",
     "output_type": "stream",
     "text": [
      "5 * 1 = 5\n",
      "5 * 2 = 10\n",
      "5 * 3 = 15\n",
      "5 * 4 = 20\n",
      "5 * 5 = 25\n",
      "5 * 6 = 30\n",
      "5 * 7 = 35\n",
      "5 * 8 = 40\n",
      "5 * 9 = 45\n",
      "5 * 10 = 50\n"
     ]
    }
   ],
   "source": [
    "i=1\n",
    "n=5\n",
    "for i in range(1,11):\n",
    "    print(n,\"*\",i,\"=\",i*n)\n"
   ]
  },
  {
   "cell_type": "code",
   "execution_count": 51,
   "id": "ae7abca4",
   "metadata": {},
   "outputs": [
    {
     "name": "stdout",
     "output_type": "stream",
     "text": [
      "5 x 1 = 5\n",
      "5 x 2 = 10\n",
      "5 x 3 = 15\n",
      "5 x 4 = 20\n",
      "5 x 5 = 25\n",
      "5 x 6 = 30\n",
      "5 x 7 = 35\n",
      "5 x 8 = 40\n",
      "5 x 9 = 45\n",
      "5 x 10 = 50\n"
     ]
    }
   ],
   "source": [
    "n=5\n",
    "for i in range(1,11):\n",
    "  print(n,'x',i,'=',n*i)"
   ]
  },
  {
   "cell_type": "code",
   "execution_count": 52,
   "id": "a34c780a",
   "metadata": {},
   "outputs": [
    {
     "name": "stdout",
     "output_type": "stream",
     "text": [
      "enter a number: 23\n",
      "23 * 1 = 23\n",
      "23 * 2 = 46\n",
      "23 * 3 = 69\n",
      "23 * 4 = 92\n",
      "23 * 5 = 115\n",
      "23 * 6 = 138\n",
      "23 * 7 = 161\n",
      "23 * 8 = 184\n",
      "23 * 9 = 207\n",
      "23 * 10 = 230\n"
     ]
    }
   ],
   "source": [
    "n=int(input(\"enter a number: \"))\n",
    "for i in range(1,11):\n",
    "    print(n,\"*\",i,\"=\",i*n)\n"
   ]
  },
  {
   "cell_type": "code",
   "execution_count": 53,
   "id": "4db64da7",
   "metadata": {},
   "outputs": [
    {
     "name": "stdout",
     "output_type": "stream",
     "text": [
      "enter a number:2\n",
      "2\n",
      "4\n",
      "6\n",
      "8\n",
      "10\n",
      "12\n",
      "14\n",
      "16\n",
      "18\n",
      "20\n"
     ]
    }
   ],
   "source": [
    "num=int(input(\"enter a number:\"))\n",
    "for i in range(1, 11):\n",
    "    print(str(i*num))"
   ]
  },
  {
   "cell_type": "code",
   "execution_count": 54,
   "id": "f9facfd4",
   "metadata": {},
   "outputs": [
    {
     "name": "stdout",
     "output_type": "stream",
     "text": [
      "45\n",
      "45 * 1 = 45\n",
      "45 * 2 = 90\n",
      "45 * 3 = 135\n",
      "45 * 4 = 180\n",
      "45 * 5 = 225\n",
      "45 * 6 = 270\n",
      "45 * 7 = 315\n",
      "45 * 8 = 360\n",
      "45 * 9 = 405\n",
      "45 * 10 = 450\n"
     ]
    }
   ],
   "source": [
    "n = int(input())\n",
    "for i in range(1, 11):\n",
    "    print(n,\"*\",i,\"=\",n*i)\n"
   ]
  },
  {
   "cell_type": "code",
   "execution_count": 55,
   "id": "21d36209",
   "metadata": {},
   "outputs": [
    {
     "name": "stdout",
     "output_type": "stream",
     "text": [
      "* * * \n",
      "* * * \n",
      "* * * \n",
      "* * * \n"
     ]
    }
   ],
   "source": [
    "for i in range(4):\n",
    "    for j in range(3):\n",
    "        print(\"*\",end=\" \")\n",
    "    print()\n"
   ]
  },
  {
   "cell_type": "code",
   "execution_count": 56,
   "id": "80834006",
   "metadata": {},
   "outputs": [
    {
     "name": "stdout",
     "output_type": "stream",
     "text": [
      "***\n",
      "***\n",
      "***\n",
      "***\n"
     ]
    }
   ],
   "source": [
    "print(\"***\")\n",
    "print(\"***\")\n",
    "print(\"***\")\n",
    "print(\"***\")\n"
   ]
  },
  {
   "cell_type": "code",
   "execution_count": 57,
   "id": "a420df37",
   "metadata": {},
   "outputs": [
    {
     "name": "stdout",
     "output_type": "stream",
     "text": [
      "***\n",
      "***\n",
      "***\n",
      "***\n"
     ]
    }
   ],
   "source": [
    "for i in range(4):\n",
    "    print(\"***\")"
   ]
  },
  {
   "cell_type": "code",
   "execution_count": 61,
   "id": "d6b70291",
   "metadata": {},
   "outputs": [
    {
     "name": "stdout",
     "output_type": "stream",
     "text": [
      "***"
     ]
    }
   ],
   "source": [
    "for j in range(3):\n",
    "    print(\"*\",end=\"\")"
   ]
  },
  {
   "cell_type": "code",
   "execution_count": 65,
   "id": "b0adbe83",
   "metadata": {},
   "outputs": [
    {
     "name": "stdout",
     "output_type": "stream",
     "text": [
      "* * * * \n",
      "* * * \n",
      "* * \n",
      "* \n"
     ]
    }
   ],
   "source": [
    "for i in range(4):\n",
    "    for j in range(4-i):\n",
    "        print(\"*\",end=\" \")\n",
    "    print()"
   ]
  },
  {
   "cell_type": "code",
   "execution_count": null,
   "id": "92a98fcc",
   "metadata": {},
   "outputs": [],
   "source": []
  },
  {
   "cell_type": "markdown",
   "id": "4ead81b3",
   "metadata": {},
   "source": [
    "# Functions in Python"
   ]
  },
  {
   "cell_type": "markdown",
   "id": "45a07ed6",
   "metadata": {},
   "source": [
    "# Block of code by which you are able to do a specific task"
   ]
  },
  {
   "cell_type": "code",
   "execution_count": 2,
   "id": "e2bb3f8b",
   "metadata": {},
   "outputs": [],
   "source": [
    "def name():\n",
    "    print(\"Mallika\")"
   ]
  },
  {
   "cell_type": "code",
   "execution_count": 3,
   "id": "47d646bd",
   "metadata": {},
   "outputs": [
    {
     "name": "stdout",
     "output_type": "stream",
     "text": [
      "Mallika\n"
     ]
    }
   ],
   "source": [
    "name()"
   ]
  },
  {
   "cell_type": "code",
   "execution_count": 4,
   "id": "7b8f37c7",
   "metadata": {},
   "outputs": [
    {
     "name": "stdout",
     "output_type": "stream",
     "text": [
      "Mallika\n"
     ]
    }
   ],
   "source": [
    "name()"
   ]
  },
  {
   "cell_type": "code",
   "execution_count": 5,
   "id": "efb5f8d4",
   "metadata": {},
   "outputs": [],
   "source": [
    "def add(x,y):\n",
    "    return x+y"
   ]
  },
  {
   "cell_type": "code",
   "execution_count": 6,
   "id": "fbd78953",
   "metadata": {},
   "outputs": [
    {
     "data": {
      "text/plain": [
       "12"
      ]
     },
     "execution_count": 6,
     "metadata": {},
     "output_type": "execute_result"
    }
   ],
   "source": [
    "add(3,9)"
   ]
  },
  {
   "cell_type": "code",
   "execution_count": 25,
   "id": "62b0ea51",
   "metadata": {},
   "outputs": [],
   "source": [
    "\n",
    "\n",
    "def student(name=\"enter your name\",rollno=1111):\n",
    "    print(\"welcome   \", name )\n",
    "    print(\"you rroll no. is : \",rollno+2)"
   ]
  },
  {
   "cell_type": "code",
   "execution_count": 22,
   "id": "28d05cae",
   "metadata": {},
   "outputs": [
    {
     "name": "stdout",
     "output_type": "stream",
     "text": [
      "welcome    qwerty\n",
      "you rroll no. is :  58\n"
     ]
    }
   ],
   "source": [
    "student(\"qwerty\",56)"
   ]
  },
  {
   "cell_type": "code",
   "execution_count": 23,
   "id": "d448d7ab",
   "metadata": {},
   "outputs": [
    {
     "name": "stdout",
     "output_type": "stream",
     "text": [
      "welcome    abc\n",
      "you rroll no. is :  47\n"
     ]
    }
   ],
   "source": [
    "student(\"abc\",45)"
   ]
  },
  {
   "cell_type": "code",
   "execution_count": 24,
   "id": "d6949e14",
   "metadata": {},
   "outputs": [
    {
     "name": "stdout",
     "output_type": "stream",
     "text": [
      "welcome    abc\n",
      "you rroll no. is :  1113\n"
     ]
    }
   ],
   "source": [
    "student(\"abc\")"
   ]
  },
  {
   "cell_type": "code",
   "execution_count": 27,
   "id": "666579ff",
   "metadata": {},
   "outputs": [
    {
     "name": "stdout",
     "output_type": "stream",
     "text": [
      "abc\n",
      "45\n",
      "welcome    abc\n",
      "you rroll no. is :  47\n"
     ]
    }
   ],
   "source": [
    "name=input()\n",
    "rollno=int(input())\n",
    "student(name,rollno)"
   ]
  },
  {
   "cell_type": "code",
   "execution_count": 35,
   "id": "ae282dd9",
   "metadata": {},
   "outputs": [],
   "source": [
    "def add(x,y,z):\n",
    "    return x+y+z"
   ]
  },
  {
   "cell_type": "code",
   "execution_count": 37,
   "id": "5b002bcf",
   "metadata": {},
   "outputs": [
    {
     "ename": "TypeError",
     "evalue": "add() missing 1 required positional argument: 'z'",
     "output_type": "error",
     "traceback": [
      "\u001b[1;31m---------------------------------------------------------------------------\u001b[0m",
      "\u001b[1;31mTypeError\u001b[0m                                 Traceback (most recent call last)",
      "\u001b[1;32m~\\AppData\\Local\\Temp/ipykernel_3636/3905115860.py\u001b[0m in \u001b[0;36m<module>\u001b[1;34m\u001b[0m\n\u001b[1;32m----> 1\u001b[1;33m \u001b[0madd\u001b[0m\u001b[1;33m(\u001b[0m\u001b[1;36m6\u001b[0m\u001b[1;33m,\u001b[0m\u001b[1;36m7\u001b[0m\u001b[1;33m)\u001b[0m\u001b[1;33m\u001b[0m\u001b[1;33m\u001b[0m\u001b[0m\n\u001b[0m",
      "\u001b[1;31mTypeError\u001b[0m: add() missing 1 required positional argument: 'z'"
     ]
    }
   ],
   "source": [
    "add(6,7)"
   ]
  },
  {
   "cell_type": "code",
   "execution_count": 36,
   "id": "172723bd",
   "metadata": {},
   "outputs": [
    {
     "data": {
      "text/plain": [
       "21"
      ]
     },
     "execution_count": 36,
     "metadata": {},
     "output_type": "execute_result"
    }
   ],
   "source": [
    "add(6,7,8)"
   ]
  },
  {
   "cell_type": "markdown",
   "id": "d5b73b83",
   "metadata": {},
   "source": [
    "# Arbitrary argument"
   ]
  },
  {
   "cell_type": "code",
   "execution_count": 47,
   "id": "f341a7f8",
   "metadata": {},
   "outputs": [],
   "source": [
    "def digit(*a):\n",
    "    print(a)\n",
    "    print(type(a))"
   ]
  },
  {
   "cell_type": "code",
   "execution_count": 48,
   "id": "d8e5d819",
   "metadata": {},
   "outputs": [
    {
     "name": "stdout",
     "output_type": "stream",
     "text": [
      "(7,)\n",
      "<class 'tuple'>\n"
     ]
    }
   ],
   "source": [
    "digit(7)"
   ]
  },
  {
   "cell_type": "code",
   "execution_count": 49,
   "id": "70bce804",
   "metadata": {},
   "outputs": [
    {
     "name": "stdout",
     "output_type": "stream",
     "text": [
      "(4, 5)\n",
      "<class 'tuple'>\n"
     ]
    }
   ],
   "source": [
    "digit(4,5)"
   ]
  },
  {
   "cell_type": "code",
   "execution_count": 50,
   "id": "9f46df39",
   "metadata": {},
   "outputs": [
    {
     "name": "stdout",
     "output_type": "stream",
     "text": [
      "(4, 5, 6, 7, 8, 'abc', 9, [4, 5, 6])\n",
      "<class 'tuple'>\n"
     ]
    }
   ],
   "source": [
    "digit(4,5,6,7,8,\"abc\",9,[4,5,6])"
   ]
  },
  {
   "cell_type": "code",
   "execution_count": 65,
   "id": "3022d77e",
   "metadata": {},
   "outputs": [],
   "source": [
    "def add(a,*b):\n",
    "    print(a+b)"
   ]
  },
  {
   "cell_type": "code",
   "execution_count": 66,
   "id": "9d220341",
   "metadata": {},
   "outputs": [
    {
     "ename": "TypeError",
     "evalue": "unsupported operand type(s) for +: 'int' and 'tuple'",
     "output_type": "error",
     "traceback": [
      "\u001b[1;31m---------------------------------------------------------------------------\u001b[0m",
      "\u001b[1;31mTypeError\u001b[0m                                 Traceback (most recent call last)",
      "\u001b[1;32m~\\AppData\\Local\\Temp/ipykernel_3636/3717115244.py\u001b[0m in \u001b[0;36m<module>\u001b[1;34m\u001b[0m\n\u001b[1;32m----> 1\u001b[1;33m \u001b[0madd\u001b[0m\u001b[1;33m(\u001b[0m\u001b[1;36m3\u001b[0m\u001b[1;33m,\u001b[0m\u001b[1;36m4\u001b[0m\u001b[1;33m)\u001b[0m\u001b[1;33m\u001b[0m\u001b[1;33m\u001b[0m\u001b[0m\n\u001b[0m",
      "\u001b[1;32m~\\AppData\\Local\\Temp/ipykernel_3636/1284449231.py\u001b[0m in \u001b[0;36madd\u001b[1;34m(a, *b)\u001b[0m\n\u001b[0;32m      1\u001b[0m \u001b[1;32mdef\u001b[0m \u001b[0madd\u001b[0m\u001b[1;33m(\u001b[0m\u001b[0ma\u001b[0m\u001b[1;33m,\u001b[0m\u001b[1;33m*\u001b[0m\u001b[0mb\u001b[0m\u001b[1;33m)\u001b[0m\u001b[1;33m:\u001b[0m\u001b[1;33m\u001b[0m\u001b[1;33m\u001b[0m\u001b[0m\n\u001b[1;32m----> 2\u001b[1;33m     \u001b[0mprint\u001b[0m\u001b[1;33m(\u001b[0m\u001b[0ma\u001b[0m\u001b[1;33m+\u001b[0m\u001b[0mb\u001b[0m\u001b[1;33m)\u001b[0m\u001b[1;33m\u001b[0m\u001b[1;33m\u001b[0m\u001b[0m\n\u001b[0m",
      "\u001b[1;31mTypeError\u001b[0m: unsupported operand type(s) for +: 'int' and 'tuple'"
     ]
    }
   ],
   "source": [
    "add(3,4)"
   ]
  },
  {
   "cell_type": "code",
   "execution_count": 67,
   "id": "0b19d4b8",
   "metadata": {},
   "outputs": [
    {
     "ename": "TypeError",
     "evalue": "unsupported operand type(s) for +: 'int' and 'tuple'",
     "output_type": "error",
     "traceback": [
      "\u001b[1;31m---------------------------------------------------------------------------\u001b[0m",
      "\u001b[1;31mTypeError\u001b[0m                                 Traceback (most recent call last)",
      "\u001b[1;32m~\\AppData\\Local\\Temp/ipykernel_3636/3813610061.py\u001b[0m in \u001b[0;36m<module>\u001b[1;34m\u001b[0m\n\u001b[1;32m----> 1\u001b[1;33m \u001b[0madd\u001b[0m\u001b[1;33m(\u001b[0m\u001b[1;36m3\u001b[0m\u001b[1;33m,\u001b[0m\u001b[1;36m4\u001b[0m\u001b[1;33m,\u001b[0m\u001b[1;36m5\u001b[0m\u001b[1;33m)\u001b[0m\u001b[1;33m\u001b[0m\u001b[1;33m\u001b[0m\u001b[0m\n\u001b[0m",
      "\u001b[1;32m~\\AppData\\Local\\Temp/ipykernel_3636/1284449231.py\u001b[0m in \u001b[0;36madd\u001b[1;34m(a, *b)\u001b[0m\n\u001b[0;32m      1\u001b[0m \u001b[1;32mdef\u001b[0m \u001b[0madd\u001b[0m\u001b[1;33m(\u001b[0m\u001b[0ma\u001b[0m\u001b[1;33m,\u001b[0m\u001b[1;33m*\u001b[0m\u001b[0mb\u001b[0m\u001b[1;33m)\u001b[0m\u001b[1;33m:\u001b[0m\u001b[1;33m\u001b[0m\u001b[1;33m\u001b[0m\u001b[0m\n\u001b[1;32m----> 2\u001b[1;33m     \u001b[0mprint\u001b[0m\u001b[1;33m(\u001b[0m\u001b[0ma\u001b[0m\u001b[1;33m+\u001b[0m\u001b[0mb\u001b[0m\u001b[1;33m)\u001b[0m\u001b[1;33m\u001b[0m\u001b[1;33m\u001b[0m\u001b[0m\n\u001b[0m",
      "\u001b[1;31mTypeError\u001b[0m: unsupported operand type(s) for +: 'int' and 'tuple'"
     ]
    }
   ],
   "source": [
    "add(3,4,5)"
   ]
  },
  {
   "cell_type": "code",
   "execution_count": 68,
   "id": "2e52e3d6",
   "metadata": {},
   "outputs": [
    {
     "name": "stdout",
     "output_type": "stream",
     "text": [
      "2\n",
      "3\n",
      "4\n",
      "5\n",
      "6\n"
     ]
    }
   ],
   "source": [
    "a=(2,3,4,5,6)\n",
    "for i in a:\n",
    "    print(i)"
   ]
  },
  {
   "cell_type": "code",
   "execution_count": 69,
   "id": "dd08771f",
   "metadata": {},
   "outputs": [],
   "source": [
    "def add(a,*b):\n",
    "    print(\"value of a : \",a)\n",
    "    print(\"value of b : \",b)\n",
    "    c=a\n",
    "    for i in b:\n",
    "        c=c+i\n",
    "        print(c)\n",
    "    print(\"total : \",c)\n",
    "    "
   ]
  },
  {
   "cell_type": "code",
   "execution_count": 70,
   "id": "c243d6c8",
   "metadata": {},
   "outputs": [
    {
     "name": "stdout",
     "output_type": "stream",
     "text": [
      "value of a :  2\n",
      "value of b :  (3, 4, 5, 6, 7)\n",
      "5\n",
      "9\n",
      "14\n",
      "20\n",
      "27\n",
      "total :  27\n"
     ]
    }
   ],
   "source": [
    "add(2,3,4,5,6,7)"
   ]
  },
  {
   "cell_type": "markdown",
   "id": "7a5dd6dd",
   "metadata": {},
   "source": [
    "# kwargs"
   ]
  },
  {
   "cell_type": "code",
   "execution_count": 71,
   "id": "3c19eaf2",
   "metadata": {},
   "outputs": [],
   "source": [
    "def student(**a):\n",
    "    print(type(a))"
   ]
  },
  {
   "cell_type": "code",
   "execution_count": 72,
   "id": "82a28caa",
   "metadata": {},
   "outputs": [
    {
     "name": "stdout",
     "output_type": "stream",
     "text": [
      "<class 'dict'>\n"
     ]
    }
   ],
   "source": [
    "student(name=\"abc\")"
   ]
  },
  {
   "cell_type": "code",
   "execution_count": 73,
   "id": "0eb5c858",
   "metadata": {},
   "outputs": [],
   "source": [
    "def student(**a):\n",
    "    for i , j in a.items():\n",
    "        print(i , j)"
   ]
  },
  {
   "cell_type": "code",
   "execution_count": 74,
   "id": "1abdf72d",
   "metadata": {},
   "outputs": [
    {
     "name": "stdout",
     "output_type": "stream",
     "text": [
      "name abc\n",
      "age 13\n",
      "state New delhi\n"
     ]
    }
   ],
   "source": [
    "student(name=\"abc\",age=13,state=\"New delhi\")"
   ]
  },
  {
   "cell_type": "code",
   "execution_count": null,
   "id": "37357d70",
   "metadata": {},
   "outputs": [],
   "source": []
  },
  {
   "cell_type": "code",
   "execution_count": null,
   "id": "b2f02e26",
   "metadata": {},
   "outputs": [],
   "source": []
  },
  {
   "cell_type": "code",
   "execution_count": null,
   "id": "316e1504",
   "metadata": {},
   "outputs": [],
   "source": []
  },
  {
   "cell_type": "code",
   "execution_count": null,
   "id": "ebebd3d2",
   "metadata": {},
   "outputs": [],
   "source": []
  },
  {
   "cell_type": "code",
   "execution_count": null,
   "id": "67510929",
   "metadata": {},
   "outputs": [],
   "source": []
  },
  {
   "cell_type": "code",
   "execution_count": null,
   "id": "f4396361",
   "metadata": {},
   "outputs": [],
   "source": []
  }
 ],
 "metadata": {
  "kernelspec": {
   "display_name": "Python 3 (ipykernel)",
   "language": "python",
   "name": "python3"
  },
  "language_info": {
   "codemirror_mode": {
    "name": "ipython",
    "version": 3
   },
   "file_extension": ".py",
   "mimetype": "text/x-python",
   "name": "python",
   "nbconvert_exporter": "python",
   "pygments_lexer": "ipython3",
   "version": "3.10.2"
  }
 },
 "nbformat": 4,
 "nbformat_minor": 5
}
